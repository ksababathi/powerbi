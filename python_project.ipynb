{
 "cells": [
  {
   "cell_type": "code",
   "execution_count": null,
   "id": "bd77efc7-84ac-43d3-b749-384bfa32dddd",
   "metadata": {},
   "outputs": [],
   "source": [
    "***STUDENT MENTAL HEALTH DURATION IN ONLINE***"
   ]
  },
  {
   "cell_type": "code",
   "execution_count": 1,
   "id": "103b7098-8444-4013-9a53-58c0e9da8ea6",
   "metadata": {},
   "outputs": [
    {
     "data": {
      "text/html": [
       "<div>\n",
       "<style scoped>\n",
       "    .dataframe tbody tr th:only-of-type {\n",
       "        vertical-align: middle;\n",
       "    }\n",
       "\n",
       "    .dataframe tbody tr th {\n",
       "        vertical-align: top;\n",
       "    }\n",
       "\n",
       "    .dataframe thead th {\n",
       "        text-align: right;\n",
       "    }\n",
       "</style>\n",
       "<table border=\"1\" class=\"dataframe\">\n",
       "  <thead>\n",
       "    <tr style=\"text-align: right;\">\n",
       "      <th></th>\n",
       "      <th>Name</th>\n",
       "      <th>Gender</th>\n",
       "      <th>Age</th>\n",
       "      <th>Education Level</th>\n",
       "      <th>Screen Time (hrs/day)</th>\n",
       "      <th>Sleep Duration (hrs)</th>\n",
       "      <th>Physical Activity (hrs/week)</th>\n",
       "      <th>Stress Level</th>\n",
       "      <th>Anxious Before Exams</th>\n",
       "      <th>Academic Performance Change</th>\n",
       "    </tr>\n",
       "  </thead>\n",
       "  <tbody>\n",
       "    <tr>\n",
       "      <th>0</th>\n",
       "      <td>Aarav</td>\n",
       "      <td>Male</td>\n",
       "      <td>15</td>\n",
       "      <td>Class 8</td>\n",
       "      <td>7.1</td>\n",
       "      <td>8.9</td>\n",
       "      <td>9.3</td>\n",
       "      <td>Medium</td>\n",
       "      <td>No</td>\n",
       "      <td>Same</td>\n",
       "    </tr>\n",
       "    <tr>\n",
       "      <th>1</th>\n",
       "      <td>Meera</td>\n",
       "      <td>Female</td>\n",
       "      <td>25</td>\n",
       "      <td>MSc</td>\n",
       "      <td>3.3</td>\n",
       "      <td>5.0</td>\n",
       "      <td>0.2</td>\n",
       "      <td>Medium</td>\n",
       "      <td>No</td>\n",
       "      <td>Same</td>\n",
       "    </tr>\n",
       "    <tr>\n",
       "      <th>2</th>\n",
       "      <td>Ishaan</td>\n",
       "      <td>Male</td>\n",
       "      <td>20</td>\n",
       "      <td>BTech</td>\n",
       "      <td>9.5</td>\n",
       "      <td>5.4</td>\n",
       "      <td>6.2</td>\n",
       "      <td>Medium</td>\n",
       "      <td>No</td>\n",
       "      <td>Same</td>\n",
       "    </tr>\n",
       "    <tr>\n",
       "      <th>3</th>\n",
       "      <td>Aditya</td>\n",
       "      <td>Male</td>\n",
       "      <td>20</td>\n",
       "      <td>BA</td>\n",
       "      <td>10.8</td>\n",
       "      <td>5.6</td>\n",
       "      <td>5.5</td>\n",
       "      <td>High</td>\n",
       "      <td>Yes</td>\n",
       "      <td>Same</td>\n",
       "    </tr>\n",
       "    <tr>\n",
       "      <th>4</th>\n",
       "      <td>Anika</td>\n",
       "      <td>Female</td>\n",
       "      <td>17</td>\n",
       "      <td>Class 11</td>\n",
       "      <td>2.8</td>\n",
       "      <td>5.4</td>\n",
       "      <td>3.1</td>\n",
       "      <td>Medium</td>\n",
       "      <td>Yes</td>\n",
       "      <td>Same</td>\n",
       "    </tr>\n",
       "    <tr>\n",
       "      <th>...</th>\n",
       "      <td>...</td>\n",
       "      <td>...</td>\n",
       "      <td>...</td>\n",
       "      <td>...</td>\n",
       "      <td>...</td>\n",
       "      <td>...</td>\n",
       "      <td>...</td>\n",
       "      <td>...</td>\n",
       "      <td>...</td>\n",
       "      <td>...</td>\n",
       "    </tr>\n",
       "    <tr>\n",
       "      <th>995</th>\n",
       "      <td>Diya</td>\n",
       "      <td>Female</td>\n",
       "      <td>26</td>\n",
       "      <td>MA</td>\n",
       "      <td>11.3</td>\n",
       "      <td>6.8</td>\n",
       "      <td>9.1</td>\n",
       "      <td>Medium</td>\n",
       "      <td>No</td>\n",
       "      <td>Same</td>\n",
       "    </tr>\n",
       "    <tr>\n",
       "      <th>996</th>\n",
       "      <td>Aarav</td>\n",
       "      <td>Male</td>\n",
       "      <td>20</td>\n",
       "      <td>BTech</td>\n",
       "      <td>5.5</td>\n",
       "      <td>6.7</td>\n",
       "      <td>6.8</td>\n",
       "      <td>Low</td>\n",
       "      <td>Yes</td>\n",
       "      <td>Same</td>\n",
       "    </tr>\n",
       "    <tr>\n",
       "      <th>997</th>\n",
       "      <td>Myra</td>\n",
       "      <td>Female</td>\n",
       "      <td>15</td>\n",
       "      <td>Class 9</td>\n",
       "      <td>7.1</td>\n",
       "      <td>4.1</td>\n",
       "      <td>1.9</td>\n",
       "      <td>Low</td>\n",
       "      <td>Yes</td>\n",
       "      <td>Declined</td>\n",
       "    </tr>\n",
       "    <tr>\n",
       "      <th>998</th>\n",
       "      <td>Myra</td>\n",
       "      <td>Female</td>\n",
       "      <td>20</td>\n",
       "      <td>BA</td>\n",
       "      <td>4.4</td>\n",
       "      <td>7.5</td>\n",
       "      <td>4.5</td>\n",
       "      <td>Medium</td>\n",
       "      <td>No</td>\n",
       "      <td>Improved</td>\n",
       "    </tr>\n",
       "    <tr>\n",
       "      <th>999</th>\n",
       "      <td>Vihaan</td>\n",
       "      <td>Male</td>\n",
       "      <td>23</td>\n",
       "      <td>MA</td>\n",
       "      <td>10.8</td>\n",
       "      <td>7.7</td>\n",
       "      <td>3.6</td>\n",
       "      <td>Low</td>\n",
       "      <td>No</td>\n",
       "      <td>Improved</td>\n",
       "    </tr>\n",
       "  </tbody>\n",
       "</table>\n",
       "<p>1000 rows × 10 columns</p>\n",
       "</div>"
      ],
      "text/plain": [
       "       Name  Gender  Age Education Level  Screen Time (hrs/day)  \\\n",
       "0     Aarav    Male   15         Class 8                    7.1   \n",
       "1     Meera  Female   25             MSc                    3.3   \n",
       "2    Ishaan    Male   20           BTech                    9.5   \n",
       "3    Aditya    Male   20              BA                   10.8   \n",
       "4     Anika  Female   17        Class 11                    2.8   \n",
       "..      ...     ...  ...             ...                    ...   \n",
       "995    Diya  Female   26              MA                   11.3   \n",
       "996   Aarav    Male   20           BTech                    5.5   \n",
       "997    Myra  Female   15         Class 9                    7.1   \n",
       "998    Myra  Female   20              BA                    4.4   \n",
       "999  Vihaan    Male   23              MA                   10.8   \n",
       "\n",
       "     Sleep Duration (hrs)  Physical Activity (hrs/week) Stress Level  \\\n",
       "0                     8.9                           9.3       Medium   \n",
       "1                     5.0                           0.2       Medium   \n",
       "2                     5.4                           6.2       Medium   \n",
       "3                     5.6                           5.5         High   \n",
       "4                     5.4                           3.1       Medium   \n",
       "..                    ...                           ...          ...   \n",
       "995                   6.8                           9.1       Medium   \n",
       "996                   6.7                           6.8          Low   \n",
       "997                   4.1                           1.9          Low   \n",
       "998                   7.5                           4.5       Medium   \n",
       "999                   7.7                           3.6          Low   \n",
       "\n",
       "    Anxious Before Exams Academic Performance Change  \n",
       "0                     No                        Same  \n",
       "1                     No                        Same  \n",
       "2                     No                        Same  \n",
       "3                    Yes                        Same  \n",
       "4                    Yes                        Same  \n",
       "..                   ...                         ...  \n",
       "995                   No                        Same  \n",
       "996                  Yes                        Same  \n",
       "997                  Yes                    Declined  \n",
       "998                   No                    Improved  \n",
       "999                   No                    Improved  \n",
       "\n",
       "[1000 rows x 10 columns]"
      ]
     },
     "execution_count": 1,
     "metadata": {},
     "output_type": "execute_result"
    }
   ],
   "source": [
    "import pandas as pd\n",
    "import numpy as np\n",
    "import seaborn as sns\n",
    "import matplotlib.pyplot as plt\n",
    "df=pd.read_csv(\"student mental health analysis duration.zip\")\n",
    "df"
   ]
  },
  {
   "cell_type": "code",
   "execution_count": 3,
   "id": "80d8ee55-799d-414a-b2da-ba0f0042b3e2",
   "metadata": {},
   "outputs": [
    {
     "data": {
      "text/plain": [
       "(1000, 10)"
      ]
     },
     "execution_count": 3,
     "metadata": {},
     "output_type": "execute_result"
    }
   ],
   "source": [
    "df.shape"
   ]
  },
  {
   "cell_type": "code",
   "execution_count": 7,
   "id": "f79662fd-b1de-4c24-b3e3-bee43d08783e",
   "metadata": {},
   "outputs": [
    {
     "data": {
      "text/html": [
       "<div>\n",
       "<style scoped>\n",
       "    .dataframe tbody tr th:only-of-type {\n",
       "        vertical-align: middle;\n",
       "    }\n",
       "\n",
       "    .dataframe tbody tr th {\n",
       "        vertical-align: top;\n",
       "    }\n",
       "\n",
       "    .dataframe thead th {\n",
       "        text-align: right;\n",
       "    }\n",
       "</style>\n",
       "<table border=\"1\" class=\"dataframe\">\n",
       "  <thead>\n",
       "    <tr style=\"text-align: right;\">\n",
       "      <th></th>\n",
       "      <th>Name</th>\n",
       "      <th>Gender</th>\n",
       "      <th>Age</th>\n",
       "      <th>Education Level</th>\n",
       "      <th>Screen Time (hrs/day)</th>\n",
       "      <th>Sleep Duration (hrs)</th>\n",
       "      <th>Physical Activity (hrs/week)</th>\n",
       "      <th>Stress Level</th>\n",
       "      <th>Anxious Before Exams</th>\n",
       "      <th>Academic Performance Change</th>\n",
       "    </tr>\n",
       "  </thead>\n",
       "  <tbody>\n",
       "    <tr>\n",
       "      <th>0</th>\n",
       "      <td>Aarav</td>\n",
       "      <td>Male</td>\n",
       "      <td>15</td>\n",
       "      <td>Class 8</td>\n",
       "      <td>7.1</td>\n",
       "      <td>8.9</td>\n",
       "      <td>9.3</td>\n",
       "      <td>Medium</td>\n",
       "      <td>No</td>\n",
       "      <td>Same</td>\n",
       "    </tr>\n",
       "    <tr>\n",
       "      <th>1</th>\n",
       "      <td>Meera</td>\n",
       "      <td>Female</td>\n",
       "      <td>25</td>\n",
       "      <td>MSc</td>\n",
       "      <td>3.3</td>\n",
       "      <td>5.0</td>\n",
       "      <td>0.2</td>\n",
       "      <td>Medium</td>\n",
       "      <td>No</td>\n",
       "      <td>Same</td>\n",
       "    </tr>\n",
       "    <tr>\n",
       "      <th>2</th>\n",
       "      <td>Ishaan</td>\n",
       "      <td>Male</td>\n",
       "      <td>20</td>\n",
       "      <td>BTech</td>\n",
       "      <td>9.5</td>\n",
       "      <td>5.4</td>\n",
       "      <td>6.2</td>\n",
       "      <td>Medium</td>\n",
       "      <td>No</td>\n",
       "      <td>Same</td>\n",
       "    </tr>\n",
       "    <tr>\n",
       "      <th>3</th>\n",
       "      <td>Aditya</td>\n",
       "      <td>Male</td>\n",
       "      <td>20</td>\n",
       "      <td>BA</td>\n",
       "      <td>10.8</td>\n",
       "      <td>5.6</td>\n",
       "      <td>5.5</td>\n",
       "      <td>High</td>\n",
       "      <td>Yes</td>\n",
       "      <td>Same</td>\n",
       "    </tr>\n",
       "    <tr>\n",
       "      <th>4</th>\n",
       "      <td>Anika</td>\n",
       "      <td>Female</td>\n",
       "      <td>17</td>\n",
       "      <td>Class 11</td>\n",
       "      <td>2.8</td>\n",
       "      <td>5.4</td>\n",
       "      <td>3.1</td>\n",
       "      <td>Medium</td>\n",
       "      <td>Yes</td>\n",
       "      <td>Same</td>\n",
       "    </tr>\n",
       "  </tbody>\n",
       "</table>\n",
       "</div>"
      ],
      "text/plain": [
       "     Name  Gender  Age Education Level  Screen Time (hrs/day)  \\\n",
       "0   Aarav    Male   15         Class 8                    7.1   \n",
       "1   Meera  Female   25             MSc                    3.3   \n",
       "2  Ishaan    Male   20           BTech                    9.5   \n",
       "3  Aditya    Male   20              BA                   10.8   \n",
       "4   Anika  Female   17        Class 11                    2.8   \n",
       "\n",
       "   Sleep Duration (hrs)  Physical Activity (hrs/week) Stress Level  \\\n",
       "0                   8.9                           9.3       Medium   \n",
       "1                   5.0                           0.2       Medium   \n",
       "2                   5.4                           6.2       Medium   \n",
       "3                   5.6                           5.5         High   \n",
       "4                   5.4                           3.1       Medium   \n",
       "\n",
       "  Anxious Before Exams Academic Performance Change  \n",
       "0                   No                        Same  \n",
       "1                   No                        Same  \n",
       "2                   No                        Same  \n",
       "3                  Yes                        Same  \n",
       "4                  Yes                        Same  "
      ]
     },
     "execution_count": 7,
     "metadata": {},
     "output_type": "execute_result"
    }
   ],
   "source": [
    "df.head()"
   ]
  },
  {
   "cell_type": "code",
   "execution_count": 9,
   "id": "34f21e28-1ca4-49b2-8a84-524fe71a1805",
   "metadata": {},
   "outputs": [
    {
     "data": {
      "text/html": [
       "<div>\n",
       "<style scoped>\n",
       "    .dataframe tbody tr th:only-of-type {\n",
       "        vertical-align: middle;\n",
       "    }\n",
       "\n",
       "    .dataframe tbody tr th {\n",
       "        vertical-align: top;\n",
       "    }\n",
       "\n",
       "    .dataframe thead th {\n",
       "        text-align: right;\n",
       "    }\n",
       "</style>\n",
       "<table border=\"1\" class=\"dataframe\">\n",
       "  <thead>\n",
       "    <tr style=\"text-align: right;\">\n",
       "      <th></th>\n",
       "      <th>Name</th>\n",
       "      <th>Gender</th>\n",
       "      <th>Age</th>\n",
       "      <th>Education Level</th>\n",
       "      <th>Screen Time (hrs/day)</th>\n",
       "      <th>Sleep Duration (hrs)</th>\n",
       "      <th>Physical Activity (hrs/week)</th>\n",
       "      <th>Stress Level</th>\n",
       "      <th>Anxious Before Exams</th>\n",
       "      <th>Academic Performance Change</th>\n",
       "    </tr>\n",
       "  </thead>\n",
       "  <tbody>\n",
       "    <tr>\n",
       "      <th>995</th>\n",
       "      <td>Diya</td>\n",
       "      <td>Female</td>\n",
       "      <td>26</td>\n",
       "      <td>MA</td>\n",
       "      <td>11.3</td>\n",
       "      <td>6.8</td>\n",
       "      <td>9.1</td>\n",
       "      <td>Medium</td>\n",
       "      <td>No</td>\n",
       "      <td>Same</td>\n",
       "    </tr>\n",
       "    <tr>\n",
       "      <th>996</th>\n",
       "      <td>Aarav</td>\n",
       "      <td>Male</td>\n",
       "      <td>20</td>\n",
       "      <td>BTech</td>\n",
       "      <td>5.5</td>\n",
       "      <td>6.7</td>\n",
       "      <td>6.8</td>\n",
       "      <td>Low</td>\n",
       "      <td>Yes</td>\n",
       "      <td>Same</td>\n",
       "    </tr>\n",
       "    <tr>\n",
       "      <th>997</th>\n",
       "      <td>Myra</td>\n",
       "      <td>Female</td>\n",
       "      <td>15</td>\n",
       "      <td>Class 9</td>\n",
       "      <td>7.1</td>\n",
       "      <td>4.1</td>\n",
       "      <td>1.9</td>\n",
       "      <td>Low</td>\n",
       "      <td>Yes</td>\n",
       "      <td>Declined</td>\n",
       "    </tr>\n",
       "    <tr>\n",
       "      <th>998</th>\n",
       "      <td>Myra</td>\n",
       "      <td>Female</td>\n",
       "      <td>20</td>\n",
       "      <td>BA</td>\n",
       "      <td>4.4</td>\n",
       "      <td>7.5</td>\n",
       "      <td>4.5</td>\n",
       "      <td>Medium</td>\n",
       "      <td>No</td>\n",
       "      <td>Improved</td>\n",
       "    </tr>\n",
       "    <tr>\n",
       "      <th>999</th>\n",
       "      <td>Vihaan</td>\n",
       "      <td>Male</td>\n",
       "      <td>23</td>\n",
       "      <td>MA</td>\n",
       "      <td>10.8</td>\n",
       "      <td>7.7</td>\n",
       "      <td>3.6</td>\n",
       "      <td>Low</td>\n",
       "      <td>No</td>\n",
       "      <td>Improved</td>\n",
       "    </tr>\n",
       "  </tbody>\n",
       "</table>\n",
       "</div>"
      ],
      "text/plain": [
       "       Name  Gender  Age Education Level  Screen Time (hrs/day)  \\\n",
       "995    Diya  Female   26              MA                   11.3   \n",
       "996   Aarav    Male   20           BTech                    5.5   \n",
       "997    Myra  Female   15         Class 9                    7.1   \n",
       "998    Myra  Female   20              BA                    4.4   \n",
       "999  Vihaan    Male   23              MA                   10.8   \n",
       "\n",
       "     Sleep Duration (hrs)  Physical Activity (hrs/week) Stress Level  \\\n",
       "995                   6.8                           9.1       Medium   \n",
       "996                   6.7                           6.8          Low   \n",
       "997                   4.1                           1.9          Low   \n",
       "998                   7.5                           4.5       Medium   \n",
       "999                   7.7                           3.6          Low   \n",
       "\n",
       "    Anxious Before Exams Academic Performance Change  \n",
       "995                   No                        Same  \n",
       "996                  Yes                        Same  \n",
       "997                  Yes                    Declined  \n",
       "998                   No                    Improved  \n",
       "999                   No                    Improved  "
      ]
     },
     "execution_count": 9,
     "metadata": {},
     "output_type": "execute_result"
    }
   ],
   "source": [
    "df.tail()"
   ]
  },
  {
   "cell_type": "code",
   "execution_count": 5,
   "id": "de1e6479-077d-4a83-bdba-9e4f2588fd32",
   "metadata": {},
   "outputs": [
    {
     "data": {
      "text/plain": [
       "Name                            0\n",
       "Gender                          0\n",
       "Age                             0\n",
       "Education Level                 0\n",
       "Screen Time (hrs/day)           0\n",
       "Sleep Duration (hrs)            0\n",
       "Physical Activity (hrs/week)    0\n",
       "Stress Level                    0\n",
       "Anxious Before Exams            0\n",
       "Academic Performance Change     0\n",
       "dtype: int64"
      ]
     },
     "execution_count": 5,
     "metadata": {},
     "output_type": "execute_result"
    }
   ],
   "source": [
    "df.isnull().sum() "
   ]
  },
  {
   "cell_type": "code",
   "execution_count": 3,
   "id": "db3f83b4-13e7-4f06-87d7-0027c8b565b1",
   "metadata": {},
   "outputs": [],
   "source": [
    "df.rename(columns={\"Screen Time (hrs/day)\":\"Screen Time\",\"Sleep Duration (hrs)\":\"sleep Duration\",\n",
    "                   \"Physical Activity (hrs/week)\":\"Physical Activity\"},inplace=True)"
   ]
  },
  {
   "cell_type": "code",
   "execution_count": 5,
   "id": "2981d6a6-7d34-4fe6-aa04-018204022e17",
   "metadata": {},
   "outputs": [
    {
     "data": {
      "text/html": [
       "<div>\n",
       "<style scoped>\n",
       "    .dataframe tbody tr th:only-of-type {\n",
       "        vertical-align: middle;\n",
       "    }\n",
       "\n",
       "    .dataframe tbody tr th {\n",
       "        vertical-align: top;\n",
       "    }\n",
       "\n",
       "    .dataframe thead th {\n",
       "        text-align: right;\n",
       "    }\n",
       "</style>\n",
       "<table border=\"1\" class=\"dataframe\">\n",
       "  <thead>\n",
       "    <tr style=\"text-align: right;\">\n",
       "      <th></th>\n",
       "      <th>Name</th>\n",
       "      <th>Gender</th>\n",
       "      <th>Age</th>\n",
       "      <th>Education Level</th>\n",
       "      <th>Screen Time</th>\n",
       "      <th>sleep Duration</th>\n",
       "      <th>Physical Activity</th>\n",
       "      <th>Stress Level</th>\n",
       "      <th>Anxious Before Exams</th>\n",
       "      <th>Academic Performance Change</th>\n",
       "    </tr>\n",
       "  </thead>\n",
       "  <tbody>\n",
       "    <tr>\n",
       "      <th>0</th>\n",
       "      <td>Aarav</td>\n",
       "      <td>Male</td>\n",
       "      <td>15</td>\n",
       "      <td>Class 8</td>\n",
       "      <td>7.1</td>\n",
       "      <td>8.9</td>\n",
       "      <td>9.3</td>\n",
       "      <td>Medium</td>\n",
       "      <td>No</td>\n",
       "      <td>Same</td>\n",
       "    </tr>\n",
       "    <tr>\n",
       "      <th>1</th>\n",
       "      <td>Meera</td>\n",
       "      <td>Female</td>\n",
       "      <td>25</td>\n",
       "      <td>MSc</td>\n",
       "      <td>3.3</td>\n",
       "      <td>5.0</td>\n",
       "      <td>0.2</td>\n",
       "      <td>Medium</td>\n",
       "      <td>No</td>\n",
       "      <td>Same</td>\n",
       "    </tr>\n",
       "    <tr>\n",
       "      <th>2</th>\n",
       "      <td>Ishaan</td>\n",
       "      <td>Male</td>\n",
       "      <td>20</td>\n",
       "      <td>BTech</td>\n",
       "      <td>9.5</td>\n",
       "      <td>5.4</td>\n",
       "      <td>6.2</td>\n",
       "      <td>Medium</td>\n",
       "      <td>No</td>\n",
       "      <td>Same</td>\n",
       "    </tr>\n",
       "    <tr>\n",
       "      <th>3</th>\n",
       "      <td>Aditya</td>\n",
       "      <td>Male</td>\n",
       "      <td>20</td>\n",
       "      <td>BA</td>\n",
       "      <td>10.8</td>\n",
       "      <td>5.6</td>\n",
       "      <td>5.5</td>\n",
       "      <td>High</td>\n",
       "      <td>Yes</td>\n",
       "      <td>Same</td>\n",
       "    </tr>\n",
       "    <tr>\n",
       "      <th>4</th>\n",
       "      <td>Anika</td>\n",
       "      <td>Female</td>\n",
       "      <td>17</td>\n",
       "      <td>Class 11</td>\n",
       "      <td>2.8</td>\n",
       "      <td>5.4</td>\n",
       "      <td>3.1</td>\n",
       "      <td>Medium</td>\n",
       "      <td>Yes</td>\n",
       "      <td>Same</td>\n",
       "    </tr>\n",
       "    <tr>\n",
       "      <th>...</th>\n",
       "      <td>...</td>\n",
       "      <td>...</td>\n",
       "      <td>...</td>\n",
       "      <td>...</td>\n",
       "      <td>...</td>\n",
       "      <td>...</td>\n",
       "      <td>...</td>\n",
       "      <td>...</td>\n",
       "      <td>...</td>\n",
       "      <td>...</td>\n",
       "    </tr>\n",
       "    <tr>\n",
       "      <th>995</th>\n",
       "      <td>Diya</td>\n",
       "      <td>Female</td>\n",
       "      <td>26</td>\n",
       "      <td>MA</td>\n",
       "      <td>11.3</td>\n",
       "      <td>6.8</td>\n",
       "      <td>9.1</td>\n",
       "      <td>Medium</td>\n",
       "      <td>No</td>\n",
       "      <td>Same</td>\n",
       "    </tr>\n",
       "    <tr>\n",
       "      <th>996</th>\n",
       "      <td>Aarav</td>\n",
       "      <td>Male</td>\n",
       "      <td>20</td>\n",
       "      <td>BTech</td>\n",
       "      <td>5.5</td>\n",
       "      <td>6.7</td>\n",
       "      <td>6.8</td>\n",
       "      <td>Low</td>\n",
       "      <td>Yes</td>\n",
       "      <td>Same</td>\n",
       "    </tr>\n",
       "    <tr>\n",
       "      <th>997</th>\n",
       "      <td>Myra</td>\n",
       "      <td>Female</td>\n",
       "      <td>15</td>\n",
       "      <td>Class 9</td>\n",
       "      <td>7.1</td>\n",
       "      <td>4.1</td>\n",
       "      <td>1.9</td>\n",
       "      <td>Low</td>\n",
       "      <td>Yes</td>\n",
       "      <td>Declined</td>\n",
       "    </tr>\n",
       "    <tr>\n",
       "      <th>998</th>\n",
       "      <td>Myra</td>\n",
       "      <td>Female</td>\n",
       "      <td>20</td>\n",
       "      <td>BA</td>\n",
       "      <td>4.4</td>\n",
       "      <td>7.5</td>\n",
       "      <td>4.5</td>\n",
       "      <td>Medium</td>\n",
       "      <td>No</td>\n",
       "      <td>Improved</td>\n",
       "    </tr>\n",
       "    <tr>\n",
       "      <th>999</th>\n",
       "      <td>Vihaan</td>\n",
       "      <td>Male</td>\n",
       "      <td>23</td>\n",
       "      <td>MA</td>\n",
       "      <td>10.8</td>\n",
       "      <td>7.7</td>\n",
       "      <td>3.6</td>\n",
       "      <td>Low</td>\n",
       "      <td>No</td>\n",
       "      <td>Improved</td>\n",
       "    </tr>\n",
       "  </tbody>\n",
       "</table>\n",
       "<p>1000 rows × 10 columns</p>\n",
       "</div>"
      ],
      "text/plain": [
       "       Name  Gender  Age Education Level  Screen Time  sleep Duration  \\\n",
       "0     Aarav    Male   15         Class 8          7.1             8.9   \n",
       "1     Meera  Female   25             MSc          3.3             5.0   \n",
       "2    Ishaan    Male   20           BTech          9.5             5.4   \n",
       "3    Aditya    Male   20              BA         10.8             5.6   \n",
       "4     Anika  Female   17        Class 11          2.8             5.4   \n",
       "..      ...     ...  ...             ...          ...             ...   \n",
       "995    Diya  Female   26              MA         11.3             6.8   \n",
       "996   Aarav    Male   20           BTech          5.5             6.7   \n",
       "997    Myra  Female   15         Class 9          7.1             4.1   \n",
       "998    Myra  Female   20              BA          4.4             7.5   \n",
       "999  Vihaan    Male   23              MA         10.8             7.7   \n",
       "\n",
       "     Physical Activity Stress Level Anxious Before Exams  \\\n",
       "0                  9.3       Medium                   No   \n",
       "1                  0.2       Medium                   No   \n",
       "2                  6.2       Medium                   No   \n",
       "3                  5.5         High                  Yes   \n",
       "4                  3.1       Medium                  Yes   \n",
       "..                 ...          ...                  ...   \n",
       "995                9.1       Medium                   No   \n",
       "996                6.8          Low                  Yes   \n",
       "997                1.9          Low                  Yes   \n",
       "998                4.5       Medium                   No   \n",
       "999                3.6          Low                   No   \n",
       "\n",
       "    Academic Performance Change  \n",
       "0                          Same  \n",
       "1                          Same  \n",
       "2                          Same  \n",
       "3                          Same  \n",
       "4                          Same  \n",
       "..                          ...  \n",
       "995                        Same  \n",
       "996                        Same  \n",
       "997                    Declined  \n",
       "998                    Improved  \n",
       "999                    Improved  \n",
       "\n",
       "[1000 rows x 10 columns]"
      ]
     },
     "execution_count": 5,
     "metadata": {},
     "output_type": "execute_result"
    }
   ],
   "source": [
    "df"
   ]
  },
  {
   "cell_type": "markdown",
   "id": "192d698a-6485-4891-833b-cd0362656fbf",
   "metadata": {},
   "source": [
    "***AGE WISE EDUCATIONAL LEVEL***"
   ]
  },
  {
   "cell_type": "code",
   "execution_count": 13,
   "id": "c6b567ca-9dc0-4905-bc1b-7a0bbb7f4f26",
   "metadata": {},
   "outputs": [
    {
     "data": {
      "text/plain": [
       "(array([ 0.,  5., 10., 15., 20., 25., 30.]),\n",
       " [Text(0, 0.0, '0'),\n",
       "  Text(0, 5.0, '5'),\n",
       "  Text(0, 10.0, '10'),\n",
       "  Text(0, 15.0, '15'),\n",
       "  Text(0, 20.0, '20'),\n",
       "  Text(0, 25.0, '25'),\n",
       "  Text(0, 30.0, '30')])"
      ]
     },
     "execution_count": 13,
     "metadata": {},
     "output_type": "execute_result"
    },
    {
     "data": {
      "image/png": "[encoded data removed]",
      "text/plain": [
       "<Figure size 640x480 with 1 Axes>"
      ]
     },
     "metadata": {},
     "output_type": "display_data"
    }
   ],
   "source": [
    "sns.barplot(x=\"Education Level\",y=\"Age\",data=df,errorbar=None)  \n",
    "plt.title(\"Age wise Educational Level\",color=\"red\")\n",
    "plt.xticks(rotation=45,color=\"red\")\n",
    "plt.yticks(color=\"red\")"
   ]
  },
  {
   "cell_type": "markdown",
   "id": "83cd0ee7-07e3-401c-a3c6-04f5a3b2332d",
   "metadata": {},
   "source": [
    "***GENDER WISE PHYSICAL ACTIVITY***"
   ]
  },
  {
   "cell_type": "code",
   "execution_count": 13,
   "id": "dff7d547-0611-4076-8dfb-15a5dc9e3db9",
   "metadata": {},
   "outputs": [
    {
     "data": {
      "text/plain": [
       "([0, 1, 2], [Text(0, 0, 'Male'), Text(1, 0, 'Female'), Text(2, 0, 'Other')])"
      ]
     },
     "execution_count": 13,
     "metadata": {},
     "output_type": "execute_result"
    },
    {
     "data": {
      "image/png": "[encoded data removed]",
      "text/plain": [
       "<Figure size 640x480 with 1 Axes>"
      ]
     },
     "metadata": {},
     "output_type": "display_data"
    }
   ],
   "source": [
    "sns.barplot(x=\"Gender\",y=\"Physical Activity\",data=df,errorbar=None) \n",
    "plt.title(\"Gender wise Physical Activity\",color=\"Blue\")\n",
    "plt.xticks(color=\"purple\")"
   ]
  },
  {
   "cell_type": "markdown",
   "id": "caaf7fd6-118c-4e42-984c-e7a8ad5851a9",
   "metadata": {},
   "source": [
    "***Anxious before exams and physical activity***"
   ]
  },
  {
   "cell_type": "code",
   "execution_count": 43,
   "id": "43806f3e-c271-4493-a727-d7350e5da625",
   "metadata": {},
   "outputs": [
    {
     "data": {
      "text/plain": [
       "Text(0.5, 1.0, 'TOP 10 PHYSCIAL ACTIVITY VS ANXIOUS BEFORE EXAMS')"
      ]
     },
     "execution_count": 43,
     "metadata": {},
     "output_type": "execute_result"
    },
    {
     "data": {
      "image/png": "[encoded data removed]",
      "text/plain": [
       "<Figure size 640x480 with 1 Axes>"
      ]
     },
     "metadata": {},
     "output_type": "display_data"
    }
   ],
   "source": [
    "sns.barplot(x=\"Anxious Before Exams\",y=\"Physical Activity\",data=df.head(10),errorbar=None)\n",
    "plt.title(\"TOP 10 PHYSCIAL ACTIVITY  ANXIOUS BEFORE EXAMS\")"
   ]
  },
  {
   "cell_type": "markdown",
   "id": "06b501e4-e59b-4666-b559-45160f53ddb1",
   "metadata": {},
   "source": [
    "***SLEEP DURATION BY STRESS LEVEL***"
   ]
  },
  {
   "cell_type": "code",
   "execution_count": 13,
   "id": "94f49345-250a-4e19-91c9-edc0e0807013",
   "metadata": {},
   "outputs": [],
   "source": [
    "data=df.groupby(\"Stress Level\")[\"sleep Duration\"].mean()"
   ]
  },
  {
   "cell_type": "code",
   "execution_count": 15,
   "id": "846a8f3b-fdf2-44dc-b3ea-2caf90e96acf",
   "metadata": {},
   "outputs": [
    {
     "data": {
      "text/plain": [
       "Stress Level\n",
       "High      6.474033\n",
       "Low       6.511927\n",
       "Medium    6.401626\n",
       "Name: sleep Duration, dtype: float64"
      ]
     },
     "execution_count": 15,
     "metadata": {},
     "output_type": "execute_result"
    }
   ],
   "source": [
    "data"
   ]
  },
  {
   "cell_type": "code",
   "execution_count": 23,
   "id": "de1324f0-21cc-4fc9-8653-ce25d0e3c588",
   "metadata": {},
   "outputs": [
    {
     "data": {
      "text/plain": [
       "Text(0.5, 1.0, 'SLEEP DURATION BY STRESS LEVEL')"
      ]
     },
     "execution_count": 23,
     "metadata": {},
     "output_type": "execute_result"
    },
    {
     "data": {
      "image/png": "[encoded data removed]",
      "text/plain": [
       "<Figure size 640x480 with 1 Axes>"
      ]
     },
     "metadata": {},
     "output_type": "display_data"
    }
   ],
   "source": [
    "data.plot(kind=\"line\",marker=\"o\")\n",
    "plt.title(\"SLEEP DURATION BY STRESS LEVEL\",color=\"red\")"
   ]
  },
  {
   "cell_type": "markdown",
   "id": "d03f9f06-3424-4434-a5bc-22487b784cb6",
   "metadata": {},
   "source": [
    "***ACADEMIC PERFORMANCE DONE BY GENDER***"
   ]
  },
  {
   "cell_type": "code",
   "execution_count": 31,
   "id": "e061cebb-f857-4f85-b302-7a6c002dc997",
   "metadata": {},
   "outputs": [
    {
     "data": {
      "text/plain": [
       "Text(0.5, 1.0, 'Academic performance by gender')"
      ]
     },
     "execution_count": 31,
     "metadata": {},
     "output_type": "execute_result"
    },
    {
     "data": {
      "image/png": "[encoded data removed]",
      "text/plain": [
       "<Figure size 640x480 with 1 Axes>"
      ]
     },
     "metadata": {},
     "output_type": "display_data"
    }
   ],
   "source": [
    "df[[\"Academic Performance Change\",\"Gender\"]].value_counts().plot.pie(autopct=\"%.1f%%\")\n",
    "plt.title(\"Academic performance by gender\")"
   ]
  },
  {
   "cell_type": "markdown",
   "id": "b846362f-d121-4358-81fe-d7fca534bab2",
   "metadata": {},
   "source": [
    "***Screen Time perfomance based stress Level***"
   ]
  },
  {
   "cell_type": "code",
   "execution_count": 35,
   "id": "8cd522e1-d2bb-42bb-b149-b2e5762142f4",
   "metadata": {},
   "outputs": [],
   "source": [
    "data1=df.groupby(\"Stress Level\")[\"Screen Time\"].mean()"
   ]
  },
  {
   "cell_type": "code",
   "execution_count": 37,
   "id": "7b2e8172-1bf6-4d12-a635-da1b20cabbce",
   "metadata": {},
   "outputs": [
    {
     "data": {
      "text/plain": [
       "Stress Level\n",
       "High      7.058011\n",
       "Low       6.883792\n",
       "Medium    6.871341\n",
       "Name: Screen Time, dtype: float64"
      ]
     },
     "execution_count": 37,
     "metadata": {},
     "output_type": "execute_result"
    }
   ],
   "source": [
    "data1"
   ]
  },
  {
   "cell_type": "code",
   "execution_count": 39,
   "id": "cf88a811-7dcf-433d-acac-2da80f2d0f2a",
   "metadata": {},
   "outputs": [
    {
     "data": {
      "text/plain": [
       "Text(0.5, 1.0, 'Screen Time performance based Stress Level')"
      ]
     },
     "execution_count": 39,
     "metadata": {},
     "output_type": "execute_result"
    },
    {
     "data": {
      "image/png": "[encoded data removed]",
      "text/plain": [
       "<Figure size 640x480 with 1 Axes>"
      ]
     },
     "metadata": {},
     "output_type": "display_data"
    }
   ],
   "source": [
    "plt.pie(x=data1.values,labels=data1.index,\n",
    "        autopct='%.1f%%',radius=1,rotatelabels=True)\n",
    "plt.title(\"Screen Time performance based Stress Level\")"
   ]
  },
  {
   "cell_type": "markdown",
   "id": "7be44fff-00ac-4e70-9add-ab2688d77913",
   "metadata": {},
   "source": [
    "***KEY INSIGHTS***"
   ]
  },
  {
   "cell_type": "code",
   "execution_count": null,
   "id": "c1a053ff-26f0-4f56-bb34-9014000aadaa",
   "metadata": {},
   "outputs": [],
   "source": [
    "1.Students had different stress levels – mostly medium and high.\n",
    "2.More screen time often meant more stress.\n",
    "3.Less sleep was common among students with high stress.\n",
    "4.Many students felt anxious before exams.\n",
    "5.Even with stress, most students' academic performance stayed the same."
   ]
  },
  {
   "cell_type": "code",
   "execution_count": null,
   "id": "a45ca6c6-5075-45df-bcfe-06709828733d",
   "metadata": {},
   "outputs": [],
   "source": []
  }
 ],
 "metadata": {
  "kernelspec": {
   "display_name": "Python [conda env:base] *",
   "language": "python",
   "name": "conda-base-py"
  },
  "language_info": {
   "codemirror_mode": {
    "name": "ipython",
    "version": 3
   },
   "file_extension": ".py",
   "mimetype": "text/x-python",
   "name": "python",
   "nbconvert_exporter": "python",
   "pygments_lexer": "ipython3",
   "version": "3.12.7"
  }
 },
 "nbformat": 4,
 "nbformat_minor": 5
}
